{
 "cells": [
  {
   "cell_type": "code",
   "execution_count": 1,
   "id": "86aa0d35-c298-42e5-ac81-8e8a85c49225",
   "metadata": {},
   "outputs": [],
   "source": [
    "import os, gzip\n",
    "import matplotlib.pyplot as plt\n",
    "import pysam\n",
    "\n",
    "import sys\n",
    "sys.path.append(\"../../../src/\")\n",
    "import lakeview as lv\n",
    "\n",
    "plt.rcParams['figure.facecolor'] = 'white'\n",
    "plt.rcParams['figure.dpi'] = 72"
   ]
  },
  {
   "cell_type": "code",
   "execution_count": 2,
   "id": "d7d9173c-aaae-43fa-96af-ee204abda485",
   "metadata": {},
   "outputs": [
    {
     "data": {
      "text/plain": [
       "<matplotlib.pyplot._IoffContext at 0x10a483d00>"
      ]
     },
     "execution_count": 2,
     "metadata": {},
     "output_type": "execute_result"
    }
   ],
   "source": [
    "%matplotlib widget\n",
    "plt.ioff()"
   ]
  },
  {
   "cell_type": "code",
   "execution_count": 3,
   "id": "274091a5-7ac0-4714-a4d4-6114c8401562",
   "metadata": {},
   "outputs": [],
   "source": [
    "CHROMOSOME = \"chr14\"\n",
    "START = 104586347\n",
    "END = 107043718\n",
    "REGION = f\"{CHROMOSOME}:{START}-{END}\"\n",
    "PACBIO_BAM_URL = \"ftp://ftp-trace.ncbi.nlm.nih.gov/ReferenceSamples/giab/data/AshkenazimTrio/HG002_NA24385_son/PacBio_CCS_15kb_20kb_chemistry2/GRCh38/HG002.SequelII.merged_15kb_20kb.pbmm2.GRCh38.haplotag.10x.bam\"\n",
    "PACBIO_BAI_URL = \"ftp://ftp-trace.ncbi.nlm.nih.gov/ReferenceSamples/giab/data/AshkenazimTrio/HG002_NA24385_son/PacBio_CCS_15kb_20kb_chemistry2/GRCh38/HG002.SequelII.merged_15kb_20kb.pbmm2.GRCh38.haplotag.10x.bam.bai\"\n",
    "PACBIO_BAM_PATH = \"data/PacBio_CCS.bam\"\n",
    "PACBIO_BAI_PATH = \"data/PacBio_CCS.bam.bai\"\n",
    "\n",
    "\n",
    "PACBIO_BAM_URL = \"ftp://ftp-trace.ncbi.nlm.nih.gov/ReferenceSamples/giab/data/AshkenazimTrio/HG002_NA24385_son/PacBio_CCS_15kb/GRCh38_no_alt_analysis/HG002.15kb.Sequel.pbmm2.GRCh38.whatshap.haplotag.RTG.10x.trio.bam\"\n",
    "PACBIO_BAI_URL = \"ftp://ftp-trace.ncbi.nlm.nih.gov/ReferenceSamples/giab/data/AshkenazimTrio/HG002_NA24385_son/PacBio_CCS_15kb/GRCh38_no_alt_analysis/HG002.15kb.Sequel.pbmm2.GRCh38.whatshap.haplotag.RTG.10x.trio.bam.bai\"\n",
    "\n",
    "if not os.path.isfile(PACBIO_BAM_PATH):\n",
    "    bam_data = pysam.view(\n",
    "        \"-X\",\n",
    "        \"-b\",\n",
    "        PACBIO_BAM_URL,\n",
    "        PACBIO_BAI_URL,\n",
    "        REGION,\n",
    "    )\n",
    "    with open(PACBIO_BAM_PATH, \"wb\") as f:\n",
    "        f.write(bam_data)\n",
    "if not os.path.isfile(PACBIO_BAI_PATH):\n",
    "    pysam.index(PACBIO_BAM_PATH)"
   ]
  },
  {
   "cell_type": "code",
   "execution_count": 4,
   "id": "a8aa184e-98ec-4042-9405-920b655169ea",
   "metadata": {},
   "outputs": [],
   "source": [
    "pacbio_painter = lv.SequenceAlignment.from_file(PACBIO_BAM_PATH, \"rb\")"
   ]
  },
  {
   "cell_type": "code",
   "execution_count": 5,
   "id": "d7fc281b-65cd-4e81-8bb7-65a242042c7d",
   "metadata": {},
   "outputs": [],
   "source": [
    "with gzip.open(\"data/gencode.v40.annotation.gtf.gz\", \"rt\") as f:\n",
    "    gencode_painter = lv.GeneAnnotation.from_file(\n",
    "        file_handle=f,\n",
    "        format=\"gtf\",\n",
    "        sequence_name=CHROMOSOME,\n",
    "        start=START,\n",
    "        end=END,\n",
    "    )"
   ]
  },
  {
   "cell_type": "code",
   "execution_count": 10,
   "id": "6d65e838-de8c-4f39-a9af-083e5720561a",
   "metadata": {},
   "outputs": [],
   "source": [
    "gv = lv.GenomeViewer(width=12, height=12, xlim=(105679000, 105776000))\n",
    "gv.add_track(pacbio_painter.draw_pileup, 1, show_mismatches=False)\n",
    "gv.add_track(\n",
    "    pacbio_painter.draw_alignment,\n",
    "    8,\n",
    "    show_mismatches=False,\n",
    "    order=lambda seg: -seg.query_alignment_length,\n",
    "    max_group_depth=50,\n",
    ")\n",
    "gv.add_track(\n",
    "    gencode_painter.draw_genes,\n",
    "    0.5,\n",
    "    labels=[g.attributes.get(\"gene_name\", \"\") for g in gencode_painter.genes],\n",
    "    allow_overlaps=True,\n",
    ")\n",
    "gv.init_app()"
   ]
  },
  {
   "cell_type": "code",
   "execution_count": 11,
   "id": "3d588fc9-3848-47f4-9860-0acdda251ff2",
   "metadata": {},
   "outputs": [
    {
     "data": {
      "application/vnd.jupyter.widget-view+json": {
       "model_id": "dd1b5015608b4dc58b604b7a56bad970",
       "version_major": 2,
       "version_minor": 0
      },
      "text/plain": [
       "AppLayout(children=(VBox(children=(HBox(children=(Text(value='104,572,680 - 106,883,718', placeholder=''), But…"
      ]
     },
     "metadata": {},
     "output_type": "display_data"
    }
   ],
   "source": [
    "gv"
   ]
  },
  {
   "cell_type": "code",
   "execution_count": 16,
   "id": "f7ba424d-55a4-467e-9d71-672d4505f3f2",
   "metadata": {},
   "outputs": [],
   "source": [
    "gv = lv.GenomeViewer(width=12, height=12, xlim=(105679000, 105776000))\n",
    "gv.add_track(pacbio_painter.draw_pileup, 1, show_mismatches=False)\n",
    "gv.add_track(\n",
    "    pacbio_painter.draw_alignment,\n",
    "    8,\n",
    "    show_mismatches=False,\n",
    "    order=lambda seg: -seg.query_alignment_length,\n",
    "    max_group_depth=50,\n",
    ")\n",
    "gv.init_app()"
   ]
  },
  {
   "cell_type": "code",
   "execution_count": 17,
   "id": "5cf66517-1ad3-4ae8-9e7c-2816ec710b43",
   "metadata": {},
   "outputs": [
    {
     "data": {
      "application/vnd.jupyter.widget-view+json": {
       "model_id": "55aff0e00be24872af540eddafb315ca",
       "version_major": 2,
       "version_minor": 0
      },
      "text/plain": [
       "AppLayout(children=(VBox(children=(HBox(children=(Text(value='104,572,680 - 106,883,718', placeholder=''), But…"
      ]
     },
     "metadata": {},
     "output_type": "display_data"
    }
   ],
   "source": [
    "gv"
   ]
  },
  {
   "cell_type": "code",
   "execution_count": null,
   "id": "d5ee69fe-d9d2-45dd-a8c3-074c3d3ea41a",
   "metadata": {},
   "outputs": [],
   "source": []
  },
  {
   "cell_type": "code",
   "execution_count": null,
   "id": "c55c345f-6bd1-4f02-baa3-165fb37919ad",
   "metadata": {},
   "outputs": [],
   "source": []
  },
  {
   "cell_type": "code",
   "execution_count": null,
   "id": "7b9cfc46-5351-4be2-af2b-4db935c2c398",
   "metadata": {},
   "outputs": [],
   "source": []
  },
  {
   "cell_type": "code",
   "execution_count": null,
   "id": "569b4147-0eea-4c03-9430-790611f21653",
   "metadata": {},
   "outputs": [],
   "source": []
  },
  {
   "cell_type": "code",
   "execution_count": null,
   "id": "4a5a5e0d-be05-48e0-b4b9-8508ec557e80",
   "metadata": {},
   "outputs": [],
   "source": []
  },
  {
   "cell_type": "code",
   "execution_count": 11,
   "id": "b483de52-a7b5-440f-bf5e-aebe4f74c231",
   "metadata": {
    "tags": []
   },
   "outputs": [],
   "source": [
    "gv = lv.GenomeViewer(width=4, height=4, use_ipympl=True)\n",
    "gv.add_track(lambda ax: ax.plot([1, 2]))\n",
    "gv.init_app()"
   ]
  },
  {
   "cell_type": "code",
   "execution_count": 12,
   "id": "4f52737b-e739-4193-8413-37883d86a3ef",
   "metadata": {},
   "outputs": [
    {
     "data": {
      "application/vnd.jupyter.widget-view+json": {
       "model_id": "18bd70baadbb42268a3e608298819c5d",
       "version_major": 2,
       "version_minor": 0
      },
      "text/plain": [
       "AppLayout(children=(VBox(children=(HBox(children=(Text(value='0 - 1', placeholder=''), Button(description='Go'…"
      ]
     },
     "metadata": {},
     "output_type": "display_data"
    }
   ],
   "source": [
    "gv"
   ]
  },
  {
   "cell_type": "code",
   "execution_count": 74,
   "id": "46c19467-02db-4c0e-bafd-52651e60a22d",
   "metadata": {},
   "outputs": [],
   "source": [
    "import ipywidgets as widgets\n",
    "from IPython.display import display"
   ]
  },
  {
   "cell_type": "code",
   "execution_count": 82,
   "id": "1c94423f-b565-4c25-ab61-d25a035be654",
   "metadata": {},
   "outputs": [],
   "source": [
    "fig, ax = plt.subplots(figsize=(8, 6))\n",
    "ax.plot([1, 2])\n",
    "app = widgets.AppLayout(\n",
    "    center=fig.canvas,\n",
    "    footer=widgets.Button(icon='check'),\n",
    "    pane_heights=[0, 6, 1]\n",
    ")\n",
    "\n",
    "class C:\n",
    "    def __init__(self, app):\n",
    "        self.app = app\n",
    "    \n",
    "    def _ipython_display_(self):\n",
    "        return display(self.app)\n",
    "    \n",
    "gv = C(app)"
   ]
  },
  {
   "cell_type": "code",
   "execution_count": 83,
   "id": "62da2324-e94d-42a6-b8fd-afbbc69a1566",
   "metadata": {},
   "outputs": [
    {
     "data": {
      "application/vnd.jupyter.widget-view+json": {
       "model_id": "f5e1857ccc0f40a0aba41e54cb569a78",
       "version_major": 2,
       "version_minor": 0
      },
      "text/plain": [
       "AppLayout(children=(Button(icon='check', layout=Layout(grid_area='footer'), style=ButtonStyle()), Canvas(layou…"
      ]
     },
     "metadata": {},
     "output_type": "display_data"
    }
   ],
   "source": [
    "gv"
   ]
  },
  {
   "cell_type": "code",
   "execution_count": 62,
   "id": "9bc1d96d-be11-43f9-9028-31f5092d041d",
   "metadata": {},
   "outputs": [
    {
     "data": {
      "text/plain": [
       "\u001b[0;31mSignature:\u001b[0m \u001b[0mgv\u001b[0m\u001b[0;34m.\u001b[0m\u001b[0mfigure\u001b[0m\u001b[0;34m.\u001b[0m\u001b[0mcanvas\u001b[0m\u001b[0;34m.\u001b[0m\u001b[0mdraw\u001b[0m\u001b[0;34m(\u001b[0m\u001b[0;34m)\u001b[0m\u001b[0;34m\u001b[0m\u001b[0;34m\u001b[0m\u001b[0m\n",
       "\u001b[0;31mDocstring:\u001b[0m\n",
       "Render the `.Figure`.\n",
       "\n",
       "It is important that this method actually walk the artist tree\n",
       "even if not output is produced because this will trigger\n",
       "deferred work (like computing limits auto-limits and tick\n",
       "values) that users may want access to before saving to disk.\n",
       "\u001b[0;31mFile:\u001b[0m      ~/opt/anaconda3/envs/dev/lib/python3.9/site-packages/matplotlib/backends/backend_webagg_core.py\n",
       "\u001b[0;31mType:\u001b[0m      method\n"
      ]
     },
     "metadata": {},
     "output_type": "display_data"
    }
   ],
   "source": [
    "?gv.figure.canvas.draw"
   ]
  },
  {
   "cell_type": "code",
   "execution_count": null,
   "id": "ea133a26-d40a-4fa2-b723-4a4626c730ff",
   "metadata": {},
   "outputs": [
    {
     "ename": "NameError",
     "evalue": "name 'painter' is not defined",
     "output_type": "error",
     "traceback": [
      "\u001b[0;31m---------------------------------------------------------------------------\u001b[0m",
      "\u001b[0;31mNameError\u001b[0m                                 Traceback (most recent call last)",
      "Input \u001b[0;32mIn [63]\u001b[0m, in \u001b[0;36m<cell line: 2>\u001b[0;34m()\u001b[0m\n\u001b[1;32m      1\u001b[0m fig, ax \u001b[38;5;241m=\u001b[39m plt\u001b[38;5;241m.\u001b[39msubplots(figsize\u001b[38;5;241m=\u001b[39m(\u001b[38;5;241m10\u001b[39m, \u001b[38;5;241m10\u001b[39m))\n\u001b[0;32m----> 2\u001b[0m \u001b[43mpainter\u001b[49m\u001b[38;5;241m.\u001b[39mdraw_alignment(\n\u001b[1;32m      3\u001b[0m     ax,\n\u001b[1;32m      4\u001b[0m     show_mismatches\u001b[38;5;241m=\u001b[39m\u001b[38;5;28;01mFalse\u001b[39;00m,\n\u001b[1;32m      5\u001b[0m     order\u001b[38;5;241m=\u001b[39m\u001b[38;5;28;01mlambda\u001b[39;00m seg: \u001b[38;5;241m-\u001b[39mseg\u001b[38;5;241m.\u001b[39mquery_alignment_length,\n\u001b[1;32m      6\u001b[0m )\n",
      "\u001b[0;31mNameError\u001b[0m: name 'painter' is not defined"
     ]
    }
   ],
   "source": [
    "fig, ax = plt.subplots(figsize=(10, 10))\n",
    "painter.draw_alignment(\n",
    "    ax,\n",
    "    show_mismatches=False,\n",
    "    order=lambda seg: -seg.query_alignment_length,\n",
    ")"
   ]
  },
  {
   "cell_type": "code",
   "execution_count": null,
   "id": "326315d7-df94-412b-b757-878542ddadaa",
   "metadata": {},
   "outputs": [],
   "source": [
    "fig"
   ]
  },
  {
   "cell_type": "code",
   "execution_count": null,
   "id": "850e3cf7-4745-4372-ae33-fc6c7df7a487",
   "metadata": {},
   "outputs": [],
   "source": [
    "gencode_painter.genes[:10]"
   ]
  },
  {
   "cell_type": "code",
   "execution_count": null,
   "id": "3683cb21-5fff-4786-bcf4-3190f86765ff",
   "metadata": {},
   "outputs": [],
   "source": []
  }
 ],
 "metadata": {
  "kernelspec": {
   "display_name": "dev",
   "language": "python",
   "name": "dev"
  },
  "language_info": {
   "codemirror_mode": {
    "name": "ipython",
    "version": 3
   },
   "file_extension": ".py",
   "mimetype": "text/x-python",
   "name": "python",
   "nbconvert_exporter": "python",
   "pygments_lexer": "ipython3",
   "version": "3.9.13"
  }
 },
 "nbformat": 4,
 "nbformat_minor": 5
}
