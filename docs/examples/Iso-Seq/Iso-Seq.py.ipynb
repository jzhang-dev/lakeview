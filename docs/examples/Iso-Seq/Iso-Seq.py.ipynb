{
 "cells": [
  {
   "cell_type": "code",
   "execution_count": 2,
   "id": "72bbafea-b56b-4da6-bae5-065d0f338109",
   "metadata": {},
   "outputs": [],
   "source": [
    "import os\n",
    "import matplotlib.pyplot as plt\n",
    "import pysam\n",
    "\n",
    "import sys\n",
    "sys.path.append(\"../../../src/\")\n",
    "import lakeview as lv\n",
    "\n",
    "plt.rcParams['figure.facecolor'] = 'white'\n",
    "plt.rcParams['figure.dpi'] = 72"
   ]
  },
  {
   "cell_type": "code",
   "execution_count": 3,
   "id": "4a1a459b-3d85-4b29-8644-a67d155581c2",
   "metadata": {},
   "outputs": [
    {
     "data": {
      "text/plain": [
       "<matplotlib.pyplot._IoffContext at 0x105eb37f0>"
      ]
     },
     "execution_count": 3,
     "metadata": {},
     "output_type": "execute_result"
    }
   ],
   "source": [
    "%matplotlib widget\n",
    "plt.ioff()"
   ]
  },
  {
   "cell_type": "code",
   "execution_count": 1,
   "id": "2ca5fd68-bd75-4114-9faa-d66ce55c8c47",
   "metadata": {},
   "outputs": [],
   "source": [
    "REGION = \"chr19:40,348,456-40,380,439\"\n",
    "\n",
    "ISOSEQ_BAM_URL = \"\""
   ]
  },
  {
   "cell_type": "code",
   "execution_count": 6,
   "id": "5d25bda4-8a42-4c49-9f2e-99153d06461b",
   "metadata": {},
   "outputs": [
    {
     "name": "stdout",
     "output_type": "stream",
     "text": [
      "  % Total    % Received % Xferd  Average Speed   Time    Time     Time  Current\n",
      "                                 Dload  Upload   Total   Spent    Left  Speed\n",
      "100  135k  100  135k    0     0   425k      0 --:--:-- --:--:-- --:--:--  425k\n"
     ]
    }
   ],
   "source": [
    "!curl https://raw.githubusercontent.com/GenomeRIK/tama/master/test_files/gmap_test.sam -o test.sam"
   ]
  },
  {
   "cell_type": "code",
   "execution_count": 42,
   "id": "0402f16e-2483-4f7c-8983-b87f46808f1c",
   "metadata": {},
   "outputs": [
    {
     "ename": "ValueError",
     "evalue": "file has no sequences defined (mode='rb') - is it SAM/BAM format? Consider opening with check_sq=False",
     "output_type": "error",
     "traceback": [
      "\u001b[0;31m---------------------------------------------------------------------------\u001b[0m",
      "\u001b[0;31mValueError\u001b[0m                                Traceback (most recent call last)",
      "Input \u001b[0;32mIn [42]\u001b[0m, in \u001b[0;36m<cell line: 1>\u001b[0;34m()\u001b[0m\n\u001b[0;32m----> 1\u001b[0m painter \u001b[38;5;241m=\u001b[39m \u001b[43mlv\u001b[49m\u001b[38;5;241;43m.\u001b[39;49m\u001b[43mSequenceAlignment\u001b[49m\u001b[38;5;241;43m.\u001b[39;49m\u001b[43mfrom_file\u001b[49m\u001b[43m(\u001b[49m\u001b[38;5;124;43m\"\u001b[39;49m\u001b[38;5;124;43mshard_bam_test_file.bam\u001b[39;49m\u001b[38;5;124;43m\"\u001b[39;49m\u001b[43m,\u001b[49m\u001b[43m \u001b[49m\u001b[38;5;124;43m'\u001b[39;49m\u001b[38;5;124;43mrb\u001b[39;49m\u001b[38;5;124;43m'\u001b[39;49m\u001b[43m)\u001b[49m\n",
      "File \u001b[0;32m~/Google Drive/Workspace/Todd Group/lakeview/lakeview/docs/examples/Iso-Seq/../../../src/lakeview/alignment.py:492\u001b[0m, in \u001b[0;36mSequenceAlignment.from_file\u001b[0;34m(cls, filepath, mode, reference_name, start, end, region, reference_sequence)\u001b[0m\n\u001b[1;32m    480\u001b[0m \u001b[38;5;129m@classmethod\u001b[39m\n\u001b[1;32m    481\u001b[0m \u001b[38;5;28;01mdef\u001b[39;00m \u001b[38;5;21mfrom_file\u001b[39m(\n\u001b[1;32m    482\u001b[0m     \u001b[38;5;28mcls\u001b[39m,\n\u001b[0;32m   (...)\u001b[0m\n\u001b[1;32m    490\u001b[0m     reference_sequence\u001b[38;5;241m=\u001b[39m\u001b[38;5;28;01mNone\u001b[39;00m,\n\u001b[1;32m    491\u001b[0m ):\n\u001b[0;32m--> 492\u001b[0m     \u001b[38;5;28;01mwith\u001b[39;00m \u001b[43mpysam\u001b[49m\u001b[38;5;241;43m.\u001b[39;49m\u001b[43mAlignmentFile\u001b[49m\u001b[43m(\u001b[49m\u001b[43mfilepath\u001b[49m\u001b[43m,\u001b[49m\u001b[43m \u001b[49m\u001b[43mmode\u001b[49m\u001b[43m)\u001b[49m \u001b[38;5;28;01mas\u001b[39;00m alignment_file:\n\u001b[1;32m    493\u001b[0m         reference_name_tuple \u001b[38;5;241m=\u001b[39m alignment_file\u001b[38;5;241m.\u001b[39mreferences\n\u001b[1;32m    494\u001b[0m         \u001b[38;5;28;01mif\u001b[39;00m start \u001b[38;5;129;01mis\u001b[39;00m \u001b[38;5;129;01mnot\u001b[39;00m \u001b[38;5;28;01mNone\u001b[39;00m \u001b[38;5;129;01mor\u001b[39;00m end \u001b[38;5;129;01mis\u001b[39;00m \u001b[38;5;129;01mnot\u001b[39;00m \u001b[38;5;28;01mNone\u001b[39;00m:\n",
      "File \u001b[0;32mpysam/libcalignmentfile.pyx:751\u001b[0m, in \u001b[0;36mpysam.libcalignmentfile.AlignmentFile.__cinit__\u001b[0;34m()\u001b[0m\n",
      "File \u001b[0;32mpysam/libcalignmentfile.pyx:1000\u001b[0m, in \u001b[0;36mpysam.libcalignmentfile.AlignmentFile._open\u001b[0;34m()\u001b[0m\n",
      "\u001b[0;31mValueError\u001b[0m: file has no sequences defined (mode='rb') - is it SAM/BAM format? Consider opening with check_sq=False"
     ]
    }
   ],
   "source": [
    "painter = lv.SequenceAlignment.from_file(\"shard_bam_test_file.bam\", 'rb')"
   ]
  },
  {
   "cell_type": "code",
   "execution_count": 39,
   "id": "b4bfc393-9f5b-4ef2-85bd-186c325ead4e",
   "metadata": {},
   "outputs": [],
   "source": [
    "gv = lv.GenomeViewer(width=12, height=14)\n",
    "gv.add_track(painter.draw_pileup, 1, show_mismatches=False)\n",
    "gv.add_track(painter.draw_alignment, 8, show_mismatched_bases=False)\n"
   ]
  },
  {
   "cell_type": "code",
   "execution_count": 41,
   "id": "63163c19-cfe7-4d54-874e-92ab78e6049e",
   "metadata": {},
   "outputs": [
    {
     "data": {
      "application/vnd.jupyter.widget-view+json": {
       "model_id": "f9fb54ec1f6443b095ad26d86096c071",
       "version_major": 2,
       "version_minor": 0
      },
      "text/plain": [
       "AppLayout(children=(VBox(children=(HBox(children=(Text(value='866 - 13,956', placeholder=''), Button(descripti…"
      ]
     },
     "metadata": {},
     "output_type": "display_data"
    }
   ],
   "source": [
    "gv"
   ]
  },
  {
   "cell_type": "code",
   "execution_count": 27,
   "id": "e1958030-d3b7-49d0-a04c-2099e9c7f0f7",
   "metadata": {},
   "outputs": [],
   "source": [
    "sam = list(\n",
    "    pysam.AlignmentFile(\"test.sam\", \"r\", check_sq=True)\n",
    ")"
   ]
  },
  {
   "cell_type": "code",
   "execution_count": 75,
   "id": "7b3b9138-a2fd-4053-8ee9-82cd6803bb3e",
   "metadata": {},
   "outputs": [],
   "source": [
    "REGION = \"20:57414803-57486247\"\n",
    "EXON_BAM_URL = \"ftp://ftp-trace.ncbi.nlm.nih.gov/ReferenceSamples/giab/data/AshkenazimTrio/HG002_NA24385_son/OsloUniversityHospital_Exome/151002_7001448_0359_AC7F6GANXX_Sample_HG002-EEogPU_v02-KIT-Av5_AGATGTAC_L008.posiSrt.markDup.bam\"\n",
    "EXON_BAI_URL = \"ftp://ftp-trace.ncbi.nlm.nih.gov/ReferenceSamples/giab/data/AshkenazimTrio/HG002_NA24385_son/OsloUniversityHospital_Exome/151002_7001448_0359_AC7F6GANXX_Sample_HG002-EEogPU_v02-KIT-Av5_AGATGTAC_L008.posiSrt.markDup.bai\"\n",
    "EXON_BAM_PATH = \"data/Illumina_WES.bam\"\n",
    "EXON_BAI_PATH = \"data/Illumina_WES.bam.bai\"\n",
    "\n",
    "if not os.path.isfile(EXON_BAM_PATH):\n",
    "    bam_data = pysam.view(\n",
    "        \"-X\",\n",
    "        \"-b\",\n",
    "        EXON_BAM_URL,\n",
    "        EXON_BAI_URL,\n",
    "        REGION,\n",
    "    )\n",
    "    with open(EXON_BAM_PATH, \"wb\") as f:\n",
    "        f.write(bam_data)\n",
    "if not os.path.isfile(EXON_BAI_PATH):\n",
    "    pysam.index(EXON_BAM_PATH)"
   ]
  },
  {
   "cell_type": "code",
   "execution_count": 76,
   "id": "ed8dd592-101e-44ce-a199-968978a0885c",
   "metadata": {},
   "outputs": [],
   "source": [
    "painter = lv.SequenceAlignment.from_file(EXON_BAM_PATH, \"rb\")\n",
    "painter.segments = [seg for i, seg in enumerate(painter.segments) if i % 20 == 0]"
   ]
  },
  {
   "cell_type": "code",
   "execution_count": 77,
   "id": "dbab0ef1-339b-4590-af3b-e43713d2ee27",
   "metadata": {},
   "outputs": [
    {
     "data": {
      "text/plain": [
       "751"
      ]
     },
     "execution_count": 77,
     "metadata": {},
     "output_type": "execute_result"
    }
   ],
   "source": [
    "len(painter.segments)"
   ]
  },
  {
   "cell_type": "code",
   "execution_count": 78,
   "id": "d9e75071-fe3b-40ec-9255-b7ba71885499",
   "metadata": {},
   "outputs": [],
   "source": [
    "gv = lv.GenomeViewer(width=12, height=14)\n",
    "gv.add_track(painter.draw_pileup, 1, show_mismatches=False)\n",
    "gv.add_track(painter.draw_alignment, 8, show_mismatched_bases=False)"
   ]
  },
  {
   "cell_type": "code",
   "execution_count": 80,
   "id": "3a363766-3830-4ba3-8c89-f18c295793d2",
   "metadata": {},
   "outputs": [
    {
     "data": {
      "application/vnd.jupyter.widget-view+json": {
       "model_id": "c7a85c75fc2f43858b0b2840fdcac7c8",
       "version_major": 2,
       "version_minor": 0
      },
      "text/plain": [
       "AppLayout(children=(VBox(children=(HBox(children=(Text(value='57,414,707 - 57,486,086', placeholder=''), Butto…"
      ]
     },
     "metadata": {},
     "output_type": "display_data"
    }
   ],
   "source": [
    "gv"
   ]
  },
  {
   "cell_type": "code",
   "execution_count": null,
   "id": "3d892bc9-acea-4f45-87a7-84e0bc38a925",
   "metadata": {},
   "outputs": [],
   "source": []
  }
 ],
 "metadata": {
  "kernelspec": {
   "display_name": "dev",
   "language": "python",
   "name": "dev"
  },
  "language_info": {
   "codemirror_mode": {
    "name": "ipython",
    "version": 3
   },
   "file_extension": ".py",
   "mimetype": "text/x-python",
   "name": "python",
   "nbconvert_exporter": "python",
   "pygments_lexer": "ipython3",
   "version": "3.9.13"
  }
 },
 "nbformat": 4,
 "nbformat_minor": 5
}
