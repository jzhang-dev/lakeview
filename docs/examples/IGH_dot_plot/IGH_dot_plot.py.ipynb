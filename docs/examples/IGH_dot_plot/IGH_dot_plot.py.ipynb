{
 "cells": [
  {
   "cell_type": "code",
   "execution_count": 2,
   "metadata": {},
   "outputs": [],
   "source": [
    "import os\n",
    "import sys\n",
    "import gzip\n",
    "import tempfile\n",
    "import matplotlib.pyplot as plt\n",
    "\n",
    "from ncbi.datasets.openapi import ApiClient as DatasetsApiClient\n",
    "from ncbi.datasets import GeneApi as DatasetsGeneApi\n",
    "from ncbi.datasets.package.dataset import GeneDataset\n",
    "\n",
    "import lakeview as lv\n",
    "\n",
    "plt.rcParams[\"figure.facecolor\"] = \"white\"\n",
    "plt.rcParams[\"figure.dpi\"] = 100"
   ]
  },
  {
   "cell_type": "markdown",
   "metadata": {},
   "source": [
    "## Download data"
   ]
  },
  {
   "cell_type": "code",
   "execution_count": 3,
   "metadata": {},
   "outputs": [],
   "source": [
    "def get_ncbi_gene_fasta(gene_id: int) -> str:\n",
    "    # https://www.ncbi.nlm.nih.gov/datasets/docs/v1/how-tos/genes/download-gene-data-package/\n",
    "    with DatasetsApiClient() as api_client:\n",
    "        gene_api = DatasetsGeneApi(api_client)\n",
    "        gene_dataset_download = gene_api.download_gene_package(\n",
    "            [gene_id],\n",
    "            include_annotation_type=[\"FASTA_GENE\"],\n",
    "            _preload_content=False,\n",
    "        )\n",
    "    with tempfile.NamedTemporaryFile(\"wb\") as tf:\n",
    "        tf.write(gene_dataset_download.data)\n",
    "        package = GeneDataset(tf.name)\n",
    "        for fasta_string, file_name in package.get_files_by_type(\"GENOMIC_NUCLEOTIDE_FASTA\"):\n",
    "            return fasta_string"
   ]
  },
  {
   "cell_type": "code",
   "execution_count": 4,
   "metadata": {},
   "outputs": [],
   "source": [
    "IGH_FASTA_PATH = \"data/IGH.fasta.gz\"\n",
    "if not os.path.isfile(IGH_FASTA_PATH):\n",
    "    os.makedirs(\"data\", exist_ok=True)\n",
    "    IGH_GENE_ID = 3492 # https://www.ncbi.nlm.nih.gov/gene?Db=gene&Cmd=DetailsSearch&Term=3492\n",
    "    with gzip.open(IGH_FASTA_PATH, 'wt') as f:\n",
    "        f.write(get_ncbi_gene_fasta(IGH_GENE_ID))"
   ]
  },
  {
   "cell_type": "code",
   "execution_count": 4,
   "metadata": {},
   "outputs": [],
   "source": [
    "# "
   ]
  }
 ],
 "metadata": {
  "kernelspec": {
   "display_name": "Python 3.8.13 64-bit ('shims')",
   "language": "python",
   "name": "python3"
  },
  "language_info": {
   "codemirror_mode": {
    "name": "ipython",
    "version": 3
   },
   "file_extension": ".py",
   "mimetype": "text/x-python",
   "name": "python",
   "nbconvert_exporter": "python",
   "pygments_lexer": "ipython3",
   "version": "3.8.13"
  },
  "orig_nbformat": 4,
  "vscode": {
   "interpreter": {
    "hash": "9ac03a0a6051494cc606d484d27d20fce22fb7b4d169f583271e11d5ba46a56e"
   }
  }
 },
 "nbformat": 4,
 "nbformat_minor": 2
}
