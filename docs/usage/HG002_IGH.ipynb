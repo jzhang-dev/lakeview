{
 "cells": [
  {
   "attachments": {},
   "cell_type": "markdown",
   "metadata": {},
   "source": [
    "# HG002 IGH"
   ]
  },
  {
   "cell_type": "code",
   "execution_count": 1,
   "metadata": {},
   "outputs": [],
   "source": [
    "import gzip\n",
    "import lakeview as lv"
   ]
  },
  {
   "cell_type": "code",
   "execution_count": 3,
   "metadata": {},
   "outputs": [],
   "source": [
    "CHROMOSOME = \"chr14\"\n",
    "START = 104586347\n",
    "END = 107043718\n",
    "GENCODE_GTF_PATH = \"../../tests/data/gencode.v40.annotation.gtf.gz\"\n",
    "PACBIO_BAM_PATH = \"../../tests/data/HG002_IGH_PacBio_CCS.bam\"\n",
    "\n",
    "with gzip.open(GENCODE_GTF_PATH, \"rt\") as f:\n",
    "    gencode_painter = lv.GeneAnnotation.from_gencode_gtf(\n",
    "        f, \"gtf\", region=(CHROMOSOME, (START, END))\n",
    "    )\n",
    "pacbio_painter = lv.SequenceAlignment.from_file(\n",
    "    PACBIO_BAM_PATH, region=(CHROMOSOME, (START, END))\n",
    ")\n",
    "gv = lv.GenomeViewer(3, height_ratios=(1, 8, 2))\n",
    "pacbio_painter.draw_pileup(\n",
    "    gv.axes[0],\n",
    "    show_mismatches=False,\n",
    ")\n",
    "pacbio_painter.draw_alignment(\n",
    "    gv.axes[1],\n",
    "    show_mismatches=False,\n",
    "    sort_by=\"length\",\n",
    "    link_by=\"name\",\n",
    "    max_rows=50,\n",
    ")\n",
    "gencode_painter.draw_transcripts(gv.axes[2], max_rows=5, sort_by=\"length\")\n",
    "\n",
    "gv.set_xlim((105679000, 105776000))\n",
    "gv.set_xlabel(CHROMOSOME)\n",
    "gv.set_title(\"HG002 IGH PacBio + Gencode\")\n",
    "gv.xaxis.set_major_formatter(lv.plot.BasePairFormatter(\"Mb\"))\n"
   ]
  },
  {
   "cell_type": "code",
   "execution_count": null,
   "metadata": {},
   "outputs": [],
   "source": []
  }
 ],
 "metadata": {
  "kernelspec": {
   "display_name": "Python 3",
   "language": "python",
   "name": "python3"
  },
  "language_info": {
   "codemirror_mode": {
    "name": "ipython",
    "version": 3
   },
   "file_extension": ".py",
   "mimetype": "text/x-python",
   "name": "python",
   "nbconvert_exporter": "python",
   "pygments_lexer": "ipython3",
   "version": "3.8.13"
  },
  "orig_nbformat": 4,
  "vscode": {
   "interpreter": {
    "hash": "9ac03a0a6051494cc606d484d27d20fce22fb7b4d169f583271e11d5ba46a56e"
   }
  }
 },
 "nbformat": 4,
 "nbformat_minor": 2
}
