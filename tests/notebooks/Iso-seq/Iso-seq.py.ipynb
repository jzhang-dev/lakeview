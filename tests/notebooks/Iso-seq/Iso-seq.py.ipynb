{
 "cells": [
  {
   "cell_type": "code",
   "execution_count": 1,
   "metadata": {},
   "outputs": [],
   "source": [
    "import matplotlib.pyplot as plt\n",
    "import lakeview as lv"
   ]
  },
  {
   "cell_type": "code",
   "execution_count": 2,
   "metadata": {},
   "outputs": [],
   "source": [
    "RNASEQ_BAM_URL = \"https://downloads.pacbcloud.com/public/dataset/MAS-Seq/DATA-SQ2-PBMC_5kcells/2-DeduplicatedReads/scisoseq.5p--3p.tagged.refined.corrected.sorted.dedup.bam\"\n",
    "RNASEQ_BAI_URL = RNASEQ_BAM_URL + \".bai\"\n",
    "\n",
    "RNASEQ_BAM_PATH = \"RNAseq_GAPDH.bam\"\n",
    "REGION = \"chr12:6,530,662-6,542,226\"\n",
    "\n",
    "lv.helpers.download_bam(RNASEQ_BAM_URL, RNASEQ_BAI_URL, REGION, RNASEQ_BAM_PATH)\n"
   ]
  },
  {
   "cell_type": "code",
   "execution_count": 4,
   "metadata": {},
   "outputs": [
    {
     "name": "stderr",
     "output_type": "stream",
     "text": [
      "/workspace/lakeview/src/lakeview/alignment.py:423: UserWarning: No aligned segments loaded.\n",
      "  warnings.warn(\"No aligned segments loaded.\")\n"
     ]
    }
   ],
   "source": [
    "p = lv.SequenceAlignment.from_file(RNASEQ_BAM_PATH, 'rb', check_sq=False)"
   ]
  },
  {
   "cell_type": "code",
   "execution_count": 5,
   "metadata": {},
   "outputs": [
    {
     "name": "stderr",
     "output_type": "stream",
     "text": [
      "/home/gitpod/.pyenv/versions/3.8.13/lib/python3.8/site-packages/numpy/core/fromnumeric.py:3432: RuntimeWarning: Mean of empty slice.\n",
      "  return _methods._mean(a, axis=axis, dtype=dtype,\n",
      "/home/gitpod/.pyenv/versions/3.8.13/lib/python3.8/site-packages/numpy/core/_methods.py:190: RuntimeWarning: invalid value encountered in double_scalars\n",
      "  ret = ret.dtype.type(ret / rcount)\n"
     ]
    },
    {
     "ename": "ValueError",
     "evalue": "not enough values to unpack (expected 5, got 0)",
     "output_type": "error",
     "traceback": [
      "\u001b[0;31m---------------------------------------------------------------------------\u001b[0m",
      "\u001b[0;31mValueError\u001b[0m                                Traceback (most recent call last)",
      "Cell \u001b[0;32mIn [5], line 2\u001b[0m\n\u001b[1;32m      1\u001b[0m fig, ax \u001b[39m=\u001b[39m plt\u001b[39m.\u001b[39msubplots(figsize\u001b[39m=\u001b[39m(\u001b[39m8\u001b[39m, \u001b[39m5\u001b[39m))\n\u001b[0;32m----> 2\u001b[0m p\u001b[39m.\u001b[39;49mdraw_alignment(ax)\n",
      "File \u001b[0;32m/workspace/lakeview/src/lakeview/alignment.py:785\u001b[0m, in \u001b[0;36mSequenceAlignment.draw_alignment\u001b[0;34m(self, ax, sort_by, link_by, group_by, filter_by, color_by, group_labels, height, min_spacing, show_backbones, show_arrowheads, show_links, show_insertions, min_insertion_size, show_deletions, min_deletion_size, show_mismatches, show_modified_bases, show_soft_clipping, min_soft_clipping_size, show_hard_clipping, min_hard_clipping_size, show_letters, show_group_labels, show_group_separators, max_group_height, backbones_kw, arrowheads_kw, links_kw, insertions_kw, deletions_kw, mismatches_kw, modified_bases_kw, soft_clipping_kw, hard_clipping_kw, letters_kw, group_labels_kw, group_separators_kw)\u001b[0m\n\u001b[1;32m    776\u001b[0m offset_array \u001b[39m=\u001b[39m \u001b[39mself\u001b[39m\u001b[39m.\u001b[39m_get_segment_offsets(\n\u001b[1;32m    777\u001b[0m     segments,\n\u001b[1;32m    778\u001b[0m     links,\n\u001b[0;32m   (...)\u001b[0m\n\u001b[1;32m    781\u001b[0m     min_spacing\u001b[39m=\u001b[39mmin_spacing,\n\u001b[1;32m    782\u001b[0m )\n\u001b[1;32m    784\u001b[0m \u001b[39m# Remove segments exceeding `max_group_offset`\u001b[39;00m\n\u001b[0;32m--> 785\u001b[0m segments, links, groups, offsets, colors \u001b[39m=\u001b[39m helpers\u001b[39m.\u001b[39mfilter_by(\n\u001b[1;32m    786\u001b[0m     segments, links, groups, offset_array, colors, by\u001b[39m=\u001b[39moffset_array \u001b[39m>\u001b[39m\u001b[39m=\u001b[39m \u001b[39m0\u001b[39m\n\u001b[1;32m    787\u001b[0m )\n\u001b[1;32m    789\u001b[0m \u001b[39m# Get segment height\u001b[39;00m\n\u001b[1;32m    790\u001b[0m \u001b[39mif\u001b[39;00m height \u001b[39mis\u001b[39;00m \u001b[39mNone\u001b[39;00m:\n",
      "\u001b[0;31mValueError\u001b[0m: not enough values to unpack (expected 5, got 0)"
     ]
    },
    {
     "data": {
      "image/png": "[encoded data removed]",
      "text/plain": [
       "<Figure size 800x500 with 1 Axes>"
      ]
     },
     "metadata": {},
     "output_type": "display_data"
    }
   ],
   "source": [
    "fig, ax = plt.subplots(figsize=(8, 5))\n",
    "p.draw_alignment(ax)"
   ]
  },
  {
   "cell_type": "code",
   "execution_count": null,
   "metadata": {},
   "outputs": [],
   "source": []
  }
 ],
 "metadata": {
  "kernelspec": {
   "display_name": "Python 3",
   "language": "python",
   "name": "python3"
  },
  "language_info": {
   "codemirror_mode": {
    "name": "ipython",
    "version": 3
   },
   "file_extension": ".py",
   "mimetype": "text/x-python",
   "name": "python",
   "nbconvert_exporter": "python",
   "pygments_lexer": "ipython3",
   "version": "3.8.16 (default, Jan 10 2023, 15:23:34) \n[GCC 9.4.0]"
  },
  "orig_nbformat": 4,
  "vscode": {
   "interpreter": {
    "hash": "9ac03a0a6051494cc606d484d27d20fce22fb7b4d169f583271e11d5ba46a56e"
   }
  }
 },
 "nbformat": 4,
 "nbformat_minor": 2
}
